{
 "cells": [
  {
   "cell_type": "markdown",
   "metadata": {},
   "source": [
    "# Lab | Numpy Deep Dive"
   ]
  },
  {
   "cell_type": "markdown",
   "metadata": {},
   "source": [
    "### 1. Import the NUMPY package under the name np.\n"
   ]
  },
  {
   "cell_type": "code",
   "execution_count": 2,
   "metadata": {},
   "outputs": [],
   "source": [
    "### [your code here]\n",
    "import numpy as np"
   ]
  },
  {
   "cell_type": "markdown",
   "metadata": {},
   "source": [
    "\n",
    "\n",
    "### 2. Print the NUMPY version and the configuration.\n"
   ]
  },
  {
   "cell_type": "code",
   "execution_count": 3,
   "metadata": {},
   "outputs": [
    {
     "name": "stdout",
     "output_type": "stream",
     "text": [
      "2.2.5\n"
     ]
    }
   ],
   "source": [
    "### [your code here]\n",
    "print(np.version.version)"
   ]
  },
  {
   "cell_type": "markdown",
   "metadata": {},
   "source": [
    "### 3. Generate a 2x3x5 3-dimensional array with random values. Assign the array to variable \"a\"\n",
    "Challenge: there are at least three easy ways that use numpy to generate random arrays. How many ways can you find?\n"
   ]
  },
  {
   "cell_type": "code",
   "execution_count": 4,
   "metadata": {},
   "outputs": [],
   "source": [
    "### [your code here]\n",
    "a = np.random.randint(10, size=(2, 3, 5))"
   ]
  },
  {
   "cell_type": "code",
   "execution_count": 5,
   "metadata": {},
   "outputs": [
    {
     "data": {
      "text/plain": [
       "array([[[0.73773464, 0.84147322, 0.95380339, 0.19273015, 0.01911876],\n",
       "        [0.21828496, 0.79798639, 0.54946885, 0.05771115, 0.98940753],\n",
       "        [0.87341576, 0.1208124 , 0.05345454, 0.80709554, 0.99384958]],\n",
       "\n",
       "       [[0.7146427 , 0.73889584, 0.58263739, 0.1552977 , 0.32963236],\n",
       "        [0.95065779, 0.57469346, 0.49023791, 0.85522008, 0.89872488],\n",
       "        [0.42587058, 0.09629422, 0.61043993, 0.30656913, 0.7780495 ]]])"
      ]
     },
     "execution_count": 5,
     "metadata": {},
     "output_type": "execute_result"
    }
   ],
   "source": [
    "aa = np.random.random(size=(2, 3, 5))\n",
    "aa"
   ]
  },
  {
   "cell_type": "code",
   "execution_count": 6,
   "metadata": {},
   "outputs": [
    {
     "data": {
      "text/plain": [
       "array([[[0.80912459, 0.16359662, 0.72073499, 0.12707715, 0.08843276],\n",
       "        [0.2160909 , 0.56050739, 0.33386354, 0.6597112 , 0.2814734 ],\n",
       "        [0.77394185, 0.42737524, 0.3991704 , 0.14279601, 0.20689268]],\n",
       "\n",
       "       [[0.77327668, 0.59291054, 0.25551097, 0.78261312, 0.26959345],\n",
       "        [0.00854966, 0.07189779, 0.74979198, 0.26445544, 0.78398933],\n",
       "        [0.98946892, 0.2181205 , 0.06410375, 0.67730014, 0.84130067]]])"
      ]
     },
     "execution_count": 6,
     "metadata": {},
     "output_type": "execute_result"
    }
   ],
   "source": [
    "aaa = np.random.rand(2,3,5)\n",
    "aaa"
   ]
  },
  {
   "cell_type": "markdown",
   "metadata": {},
   "source": [
    "\n",
    "### 4. Print a.\n"
   ]
  },
  {
   "cell_type": "code",
   "execution_count": 7,
   "metadata": {},
   "outputs": [
    {
     "name": "stdout",
     "output_type": "stream",
     "text": [
      "[[[6 1 0 0 8]\n",
      "  [2 7 5 5 0]\n",
      "  [5 3 6 0 1]]\n",
      "\n",
      " [[0 8 8 2 4]\n",
      "  [3 3 0 4 8]\n",
      "  [3 9 5 7 0]]]\n"
     ]
    }
   ],
   "source": [
    "### [your code here]\n",
    "print(a)"
   ]
  },
  {
   "cell_type": "markdown",
   "metadata": {},
   "source": [
    "### 5. Create a 5x2x3 3-dimensional array with all values equaling 1.\n",
    "### Assign the array to variable \"b\"\n"
   ]
  },
  {
   "cell_type": "markdown",
   "metadata": {},
   "source": [
    "\n",
    "### 6. Print b.\n"
   ]
  },
  {
   "cell_type": "code",
   "execution_count": 8,
   "metadata": {},
   "outputs": [],
   "source": [
    "### [your code here]\n",
    "b = np.ones((5, 2, 3))"
   ]
  },
  {
   "cell_type": "code",
   "execution_count": 9,
   "metadata": {},
   "outputs": [
    {
     "name": "stdout",
     "output_type": "stream",
     "text": [
      "[[[1. 1. 1.]\n",
      "  [1. 1. 1.]]\n",
      "\n",
      " [[1. 1. 1.]\n",
      "  [1. 1. 1.]]\n",
      "\n",
      " [[1. 1. 1.]\n",
      "  [1. 1. 1.]]\n",
      "\n",
      " [[1. 1. 1.]\n",
      "  [1. 1. 1.]]\n",
      "\n",
      " [[1. 1. 1.]\n",
      "  [1. 1. 1.]]]\n"
     ]
    }
   ],
   "source": [
    "### [your code here]\n",
    "print(b)"
   ]
  },
  {
   "cell_type": "markdown",
   "metadata": {},
   "source": [
    "\n",
    "### 7. Do a and b have the same size? How do you prove that in Python code?\n"
   ]
  },
  {
   "cell_type": "code",
   "execution_count": 10,
   "metadata": {},
   "outputs": [
    {
     "data": {
      "text/plain": [
       "True"
      ]
     },
     "execution_count": 10,
     "metadata": {},
     "output_type": "execute_result"
    }
   ],
   "source": [
    "size_comparison = (np.size(a)) == (np.size(b))\n",
    "size_comparison"
   ]
  },
  {
   "cell_type": "markdown",
   "metadata": {},
   "source": [
    "\n",
    "### 8. Are you able to add a and b? Why or why not?\n"
   ]
  },
  {
   "cell_type": "code",
   "execution_count": 11,
   "metadata": {},
   "outputs": [
    {
     "ename": "ValueError",
     "evalue": "operands could not be broadcast together with shapes (2,3,5) (5,2,3) ",
     "output_type": "error",
     "traceback": [
      "\u001b[31m---------------------------------------------------------------------------\u001b[39m",
      "\u001b[31mValueError\u001b[39m                                Traceback (most recent call last)",
      "\u001b[36mCell\u001b[39m\u001b[36m \u001b[39m\u001b[32mIn[11]\u001b[39m\u001b[32m, line 2\u001b[39m\n\u001b[32m      1\u001b[39m \u001b[38;5;66;03m### [your code here]\u001b[39;00m\n\u001b[32m----> \u001b[39m\u001b[32m2\u001b[39m ab_add = \u001b[43mnp\u001b[49m\u001b[43m.\u001b[49m\u001b[43madd\u001b[49m\u001b[43m(\u001b[49m\u001b[43ma\u001b[49m\u001b[43m,\u001b[49m\u001b[43m \u001b[49m\u001b[43mb\u001b[49m\u001b[43m)\u001b[49m\n\u001b[32m      3\u001b[39m ab_add\n\u001b[32m      5\u001b[39m \u001b[38;5;66;03m#not possible: ValueError: operands could not be broadcast together with shapes (2,3,5) (5,2,3) \u001b[39;00m\n",
      "\u001b[31mValueError\u001b[39m: operands could not be broadcast together with shapes (2,3,5) (5,2,3) "
     ]
    }
   ],
   "source": [
    "### [your code here]\n",
    "ab_add = np.add(a, b)\n",
    "ab_add\n",
    "\n",
    "#not possible: ValueError: operands could not be broadcast together with shapes (2,3,5) (5,2,3) "
   ]
  },
  {
   "cell_type": "code",
   "execution_count": null,
   "metadata": {},
   "outputs": [
    {
     "ename": "ValueError",
     "evalue": "operands could not be broadcast together with shapes (2,3,5) (5,2,3) ",
     "output_type": "error",
     "traceback": [
      "\u001b[31m---------------------------------------------------------------------------\u001b[39m",
      "\u001b[31mValueError\u001b[39m                                Traceback (most recent call last)",
      "\u001b[36mCell\u001b[39m\u001b[36m \u001b[39m\u001b[32mIn[34]\u001b[39m\u001b[32m, line 1\u001b[39m\n\u001b[32m----> \u001b[39m\u001b[32m1\u001b[39m \u001b[43ma\u001b[49m\u001b[43m \u001b[49m\u001b[43m+\u001b[49m\u001b[43m \u001b[49m\u001b[43mb\u001b[49m\n",
      "\u001b[31mValueError\u001b[39m: operands could not be broadcast together with shapes (2,3,5) (5,2,3) "
     ]
    }
   ],
   "source": [
    "a + b"
   ]
  },
  {
   "cell_type": "markdown",
   "metadata": {},
   "source": [
    "\n",
    "\n",
    "### 9. Transpose b so that it has the same structure of a (i.e. become a 2x3x5 array). Assign the transposed array to varialbe \"c\".\n"
   ]
  },
  {
   "cell_type": "code",
   "execution_count": 13,
   "metadata": {},
   "outputs": [
    {
     "data": {
      "text/plain": [
       "array([[[1., 1., 1., 1., 1.],\n",
       "        [1., 1., 1., 1., 1.],\n",
       "        [1., 1., 1., 1., 1.]],\n",
       "\n",
       "       [[1., 1., 1., 1., 1.],\n",
       "        [1., 1., 1., 1., 1.],\n",
       "        [1., 1., 1., 1., 1.]]])"
      ]
     },
     "execution_count": 13,
     "metadata": {},
     "output_type": "execute_result"
    }
   ],
   "source": [
    "### [your code here]\n",
    "c = np.transpose(b, axes=(1,2,0))\n",
    "c"
   ]
  },
  {
   "cell_type": "markdown",
   "metadata": {},
   "source": [
    "\n",
    "### 10. Try to add a and c. Now it should work. Assign the sum to variable \"d\". But why does it work now?\n"
   ]
  },
  {
   "cell_type": "code",
   "execution_count": 15,
   "metadata": {},
   "outputs": [
    {
     "data": {
      "text/plain": [
       "array([[[ 7.,  2.,  1.,  1.,  9.],\n",
       "        [ 3.,  8.,  6.,  6.,  1.],\n",
       "        [ 6.,  4.,  7.,  1.,  2.]],\n",
       "\n",
       "       [[ 1.,  9.,  9.,  3.,  5.],\n",
       "        [ 4.,  4.,  1.,  5.,  9.],\n",
       "        [ 4., 10.,  6.,  8.,  1.]]])"
      ]
     },
     "execution_count": 15,
     "metadata": {},
     "output_type": "execute_result"
    }
   ],
   "source": [
    "### [your code here]\n",
    "d = a + c\n",
    "d\n",
    "#it works because both a and c have the same shape."
   ]
  },
  {
   "cell_type": "markdown",
   "metadata": {},
   "source": [
    "\n",
    "### 11. Print a and d. Notice the difference and relation of the two array in terms of the values? Explain.\n"
   ]
  },
  {
   "cell_type": "code",
   "execution_count": 16,
   "metadata": {},
   "outputs": [
    {
     "name": "stdout",
     "output_type": "stream",
     "text": [
      "[[[6 1 0 0 8]\n",
      "  [2 7 5 5 0]\n",
      "  [5 3 6 0 1]]\n",
      "\n",
      " [[0 8 8 2 4]\n",
      "  [3 3 0 4 8]\n",
      "  [3 9 5 7 0]]]\n",
      "[[[ 7.  2.  1.  1.  9.]\n",
      "  [ 3.  8.  6.  6.  1.]\n",
      "  [ 6.  4.  7.  1.  2.]]\n",
      "\n",
      " [[ 1.  9.  9.  3.  5.]\n",
      "  [ 4.  4.  1.  5.  9.]\n",
      "  [ 4. 10.  6.  8.  1.]]]\n"
     ]
    }
   ],
   "source": [
    "### [your code here]\n",
    "print(a)\n",
    "print(d)\n",
    "\n",
    "#the array \"d\" adds 1 to each element from array \"a\", because the array \"b\" is all ones. a(0,0) adds c(0,0) and this becomes c(0,0)"
   ]
  },
  {
   "cell_type": "markdown",
   "metadata": {},
   "source": [
    "\n",
    "### 12. Multiply a and c. Assign the result to e.\n"
   ]
  },
  {
   "cell_type": "code",
   "execution_count": 17,
   "metadata": {},
   "outputs": [
    {
     "data": {
      "text/plain": [
       "array([[[6., 1., 0., 0., 8.],\n",
       "        [2., 7., 5., 5., 0.],\n",
       "        [5., 3., 6., 0., 1.]],\n",
       "\n",
       "       [[0., 8., 8., 2., 4.],\n",
       "        [3., 3., 0., 4., 8.],\n",
       "        [3., 9., 5., 7., 0.]]])"
      ]
     },
     "execution_count": 17,
     "metadata": {},
     "output_type": "execute_result"
    }
   ],
   "source": [
    "### [your code here]\n",
    "e = a * c\n",
    "e"
   ]
  },
  {
   "cell_type": "markdown",
   "metadata": {},
   "source": [
    "\n",
    "\n",
    "### 13. Does e equal to a? Why or why not?\n"
   ]
  },
  {
   "cell_type": "code",
   "execution_count": 18,
   "metadata": {},
   "outputs": [
    {
     "data": {
      "text/plain": [
       "array([[[ True,  True,  True,  True,  True],\n",
       "        [ True,  True,  True,  True,  True],\n",
       "        [ True,  True,  True,  True,  True]],\n",
       "\n",
       "       [[ True,  True,  True,  True,  True],\n",
       "        [ True,  True,  True,  True,  True],\n",
       "        [ True,  True,  True,  True,  True]]])"
      ]
     },
     "execution_count": 18,
     "metadata": {},
     "output_type": "execute_result"
    }
   ],
   "source": [
    "### [your code here]\n",
    "equal = e == a\n",
    "equal\n",
    "\n",
    "#it is equal because c is all ones, which means you multiply each element of a by 1."
   ]
  },
  {
   "cell_type": "markdown",
   "metadata": {},
   "source": [
    "\n",
    "\n",
    "### 14. Identify the max, min, and mean values in d. Assign those values to variables \"d_max\", \"d_min\", and \"d_mean\"\n"
   ]
  },
  {
   "cell_type": "code",
   "execution_count": 19,
   "metadata": {},
   "outputs": [
    {
     "name": "stdout",
     "output_type": "stream",
     "text": [
      "10.0\n",
      "1.0\n",
      "4.766666666666667\n",
      "[[[ 7.  2.  1.  1.  9.]\n",
      "  [ 3.  8.  6.  6.  1.]\n",
      "  [ 6.  4.  7.  1.  2.]]\n",
      "\n",
      " [[ 1.  9.  9.  3.  5.]\n",
      "  [ 4.  4.  1.  5.  9.]\n",
      "  [ 4. 10.  6.  8.  1.]]]\n"
     ]
    }
   ],
   "source": [
    "### [your code here]\n",
    "d_max = np.max(d)\n",
    "d_min = np.min(d)\n",
    "d_mean = np.mean(d)\n",
    "\n",
    "print(d_max)\n",
    "print(d_min)\n",
    "print(d_mean)\n",
    "print(d)"
   ]
  },
  {
   "cell_type": "markdown",
   "metadata": {},
   "source": [
    "\n",
    "### 15. Now we want to label the values in d. First create an empty array \"f\" with the same shape (i.e. 2x3x5) as d using `np.empty`.\n"
   ]
  },
  {
   "cell_type": "code",
   "execution_count": 20,
   "metadata": {},
   "outputs": [],
   "source": [
    "### [your code here]\n",
    "f = np.empty([2, 3, 5])\n"
   ]
  },
  {
   "cell_type": "markdown",
   "metadata": {},
   "source": [
    "\n",
    "\n",
    "\n",
    "### 16. Populate the values in f. For each value in d, if it's larger than d_min but smaller than d_mean, assign 25 to the corresponding value in f.\n",
    "If a value in d is larger than d_mean but smaller than d_max, assign 75 to the corresponding value in f.\n",
    "If a value equals to d_mean, assign 50 to the corresponding value in f.\n",
    "Assign 0 to the corresponding value(s) in f for d_min in d.\n",
    "Assign 100 to the corresponding value(s) in f for d_max in d.\n",
    "In the end, f should have only the following values: 0, 25, 50, 75, and 100.\n",
    "Note: you don't have to use Numpy in this question.\n",
    "\n"
   ]
  },
  {
   "cell_type": "code",
   "execution_count": 22,
   "metadata": {},
   "outputs": [
    {
     "name": "stdout",
     "output_type": "stream",
     "text": [
      "[[[ 75.  25.   0.   0.  75.]\n",
      "  [ 25.  75.  75.  75.   0.]\n",
      "  [ 75.  25.  75.   0.  25.]]\n",
      "\n",
      " [[  0.  75.  75.  25.  75.]\n",
      "  [ 25.  25.   0.  75.  75.]\n",
      "  [ 25. 100.  75.  75.   0.]]]\n"
     ]
    }
   ],
   "source": [
    "for row_i, row in enumerate(d[0]):\n",
    "    for col_i, item in enumerate(row):\n",
    "        if d_mean > item > d_min:\n",
    "            f[0, row_i, col_i] = 25\n",
    "        elif d_mean == item:\n",
    "            f[0,row_i, col_i] = 50\n",
    "        elif d_max == item:\n",
    "            f[0,row_i, col_i] = 100\n",
    "        elif d_min == item:\n",
    "            f[0,row_i, col_i] = 0\n",
    "        else:\n",
    "            f[0,row_i, col_i] = 75\n",
    "\n",
    "for row_i, row in enumerate(d[1]):\n",
    "    for col_i, item in enumerate(row):\n",
    "        if d_mean > item > d_min:\n",
    "            f[1,row_i, col_i] = 25\n",
    "        elif d_mean == item:\n",
    "            f[1,row_i, col_i] = 50\n",
    "        elif d_max == item:\n",
    "            f[1,row_i, col_i] = 100\n",
    "        elif d_min == item:\n",
    "            f[1,row_i, col_i] = 0\n",
    "        else:\n",
    "            f[1,row_i, col_i] = 75\n",
    "print(f)"
   ]
  },
  {
   "cell_type": "code",
   "execution_count": 21,
   "metadata": {},
   "outputs": [
    {
     "name": "stdout",
     "output_type": "stream",
     "text": [
      "[[[ 75.  25.   0.   0.  75.]\n",
      "  [ 25.  75.  75.  75.   0.]\n",
      "  [ 75.  25.  75.   0.  25.]]\n",
      "\n",
      " [[  0.  75.  75.  25.  75.]\n",
      "  [ 25.  25.   0.  75.  75.]\n",
      "  [ 25. 100.  75.  75.   0.]]]\n",
      "[[[ 7.  2.  1.  1.  9.]\n",
      "  [ 3.  8.  6.  6.  1.]\n",
      "  [ 6.  4.  7.  1.  2.]]\n",
      "\n",
      " [[ 1.  9.  9.  3.  5.]\n",
      "  [ 4.  4.  1.  5.  9.]\n",
      "  [ 4. 10.  6.  8.  1.]]]\n"
     ]
    }
   ],
   "source": [
    "for layer_i, layer in enumerate(d):\n",
    "    for row_i, row in enumerate(layer):\n",
    "        for col_i, item in enumerate(row):\n",
    "            if d_mean > item > d_min:\n",
    "                f[layer_i, row_i, col_i] = 25\n",
    "            elif d_mean == item:\n",
    "                f[layer_i, row_i, col_i] = 50\n",
    "            elif d_max == item:\n",
    "                f[layer_i, row_i, col_i] = 100\n",
    "            elif d_min == item:\n",
    "                f[layer_i, row_i, col_i] = 0\n",
    "            else:\n",
    "                f[layer_i, row_i, col_i] = 75\n",
    "\n",
    "print(f)\n",
    "print(d)"
   ]
  },
  {
   "cell_type": "markdown",
   "metadata": {},
   "source": [
    "\n",
    "\n",
    "\n",
    "\n",
    "### 17. Print d and f. Do you have your expected f?\n",
    "For instance, if your d is:\n",
    "array([[[1.85836099, 1.67064465, 1.62576044, 1.40243961, 1.88454931],\n",
    "        [1.75354326, 1.69403643, 1.36729252, 1.61415071, 1.12104981],\n",
    "        [1.72201435, 1.1862918 , 1.87078449, 1.7726778 , 1.88180042]],\n",
    "\n",
    "       [[1.44747908, 1.31673383, 1.02000951, 1.52218947, 1.97066381],\n",
    "        [1.79129243, 1.74983003, 1.96028037, 1.85166831, 1.65450881],\n",
    "        [1.18068344, 1.9587381 , 1.00656599, 1.93402165, 1.73514584]]])\n",
    "\n",
    "Your f should be:\n",
    "array([[[ 75.,  75.,  75.,  25.,  75.],\n",
    "        [ 75.,  75.,  25.,  25.,  25.],\n",
    "        [ 75.,  25.,  75.,  75.,  75.]],\n",
    "\n",
    "       [[ 25.,  25.,  25.,  25., 100.],\n",
    "        [ 75.,  75.,  75.,  75.,  75.],\n",
    "        [ 25.,  75.,   0.,  75.,  75.]]])\n",
    "\n"
   ]
  },
  {
   "cell_type": "code",
   "execution_count": 23,
   "metadata": {},
   "outputs": [
    {
     "name": "stdout",
     "output_type": "stream",
     "text": [
      "[[[ 7.  2.  1.  1.  9.]\n",
      "  [ 3.  8.  6.  6.  1.]\n",
      "  [ 6.  4.  7.  1.  2.]]\n",
      "\n",
      " [[ 1.  9.  9.  3.  5.]\n",
      "  [ 4.  4.  1.  5.  9.]\n",
      "  [ 4. 10.  6.  8.  1.]]]\n",
      "[[[ 75.  25.   0.   0.  75.]\n",
      "  [ 25.  75.  75.  75.   0.]\n",
      "  [ 75.  25.  75.   0.  25.]]\n",
      "\n",
      " [[  0.  75.  75.  25.  75.]\n",
      "  [ 25.  25.   0.  75.  75.]\n",
      "  [ 25. 100.  75.  75.   0.]]]\n"
     ]
    }
   ],
   "source": [
    "### [your code here]\n",
    "print(d)\n",
    "print(f)"
   ]
  },
  {
   "cell_type": "markdown",
   "metadata": {},
   "source": [
    "### 18. Bonus question: instead of using numbers (i.e. 0, 25, 50, 75, and 100), how to use string values \n",
    "(\"A\", \"B\", \"C\", \"D\", and \"E\") to label the array elements? You are expecting the result to be:\n",
    "array([[[ 'D',  'D',  'D',  'B',  'D'],\n",
    "        [ 'D',  'D',  'B',  'B',  'B'],\n",
    "        [ 'D',  'B',  'D',  'D',  'D']],\n",
    "\n",
    "       [[ 'B',  'B',  'B',  'B',  'E'],\n",
    "        [ 'D',  'D',  'D',  'D',  'D'],\n",
    "        [ 'B',  'D',   'A',  'D', 'D']]])\n",
    "Again, you don't need Numpy in this question."
   ]
  },
  {
   "cell_type": "code",
   "execution_count": 30,
   "metadata": {},
   "outputs": [],
   "source": [
    "### [your code here]\n",
    "g = np.empty([2, 3, 5], dtype=str)\n",
    "\n",
    "for layer_i, layer in enumerate(d):\n",
    "    for row_i, row in enumerate(layer):\n",
    "        for col_i, item in enumerate(row):\n",
    "            if d_mean > item > d_min:\n",
    "                g[layer_i, row_i, col_i] = \"B\"\n",
    "            elif d_mean == item:\n",
    "                g[layer_i, row_i, col_i] = \"C\"\n",
    "            elif d_max == item:\n",
    "                g[layer_i, row_i, col_i] = \"E\"\n",
    "            elif d_min == item:\n",
    "                g[layer_i, row_i, col_i] = \"A\"\n",
    "            else:\n",
    "                g[layer_i, row_i, col_i] = \"D\""
   ]
  },
  {
   "cell_type": "code",
   "execution_count": 32,
   "metadata": {},
   "outputs": [
    {
     "name": "stdout",
     "output_type": "stream",
     "text": [
      "[[['D' 'B' 'A' 'A' 'D']\n",
      "  ['B' 'D' 'D' 'D' 'A']\n",
      "  ['D' 'B' 'D' 'A' 'B']]\n",
      "\n",
      " [['A' 'D' 'D' 'B' 'D']\n",
      "  ['B' 'B' 'A' 'D' 'D']\n",
      "  ['B' 'E' 'D' 'D' 'A']]]\n"
     ]
    }
   ],
   "source": [
    "print(g)"
   ]
  },
  {
   "cell_type": "code",
   "execution_count": null,
   "metadata": {},
   "outputs": [],
   "source": []
  }
 ],
 "metadata": {
  "kernelspec": {
   "display_name": "Python 3",
   "language": "python",
   "name": "python3"
  },
  "language_info": {
   "codemirror_mode": {
    "name": "ipython",
    "version": 3
   },
   "file_extension": ".py",
   "mimetype": "text/x-python",
   "name": "python",
   "nbconvert_exporter": "python",
   "pygments_lexer": "ipython3",
   "version": "3.13.3"
  }
 },
 "nbformat": 4,
 "nbformat_minor": 2
}
